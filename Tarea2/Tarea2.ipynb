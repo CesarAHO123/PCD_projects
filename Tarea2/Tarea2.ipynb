{
 "cells": [
  {
   "cell_type": "code",
   "execution_count": 1,
   "id": "596cfb03-48a6-4504-aa1d-a9396dd4442a",
   "metadata": {},
   "outputs": [],
   "source": [
    "import re\n",
    "import nltk\n",
    "from nltk.corpus import stopwords\n",
    "import pandas as pd\n",
    "from sklearn.feature_extraction.text import TfidfVectorizer\n",
    "from sklearn.model_selection import train_test_split\n",
    "from sklearn.linear_model import LogisticRegression\n",
    "from sklearn.metrics import accuracy_score, classification_report\n",
    "import matplotlib.pyplot as plt\n",
    "import seaborn as sns\n",
    "import numpy as np\n",
    "from sklearn.metrics import confusion_matrix"
   ]
  },
  {
   "cell_type": "code",
   "execution_count": 2,
   "id": "69044457-c249-4a13-836a-796982773a4b",
   "metadata": {},
   "outputs": [],
   "source": [
    "# Cargar las stopwords en inglés\n",
    "stop_words = set(stopwords.words('english'))\n"
   ]
  },
  {
   "cell_type": "code",
   "execution_count": 3,
   "id": "ff22a46c-8111-451e-98b4-6ea0c3a371b0",
   "metadata": {},
   "outputs": [],
   "source": [
    "\n",
    "# Cargar el dataset\n",
    "df_amazon = pd.read_csv(\"amazon.csv\")"
   ]
  },
  {
   "cell_type": "code",
   "execution_count": 4,
   "id": "58864e7c-47b5-40ff-a561-c741c717b9c3",
   "metadata": {},
   "outputs": [],
   "source": [
    "# Seleccionar solo las columnas necesarias\n",
    "df_amazon = df_amazon[['review_content', 'rating']].copy()\n",
    "\n",
    "# Convertir la columna de rating a numérico\n",
    "df_amazon['rating'] = pd.to_numeric(df_amazon['rating'], errors='coerce')\n",
    "\n",
    "# Eliminar valores nulos\n",
    "df_amazon = df_amazon.dropna(subset=['review_content', 'rating'])\n",
    "\n",
    "\n"
   ]
  },
  {
   "cell_type": "code",
   "execution_count": 5,
   "id": "bdf4675a-d9f3-42f5-96a7-00ef207fa1da",
   "metadata": {},
   "outputs": [],
   "source": [
    "# Convertir rating en etiquetas de sentimiento\n",
    "df_amazon['sentiment'] = df_amazon['rating'].apply(lambda x: 'positive' if x >= 4 else 'negative')"
   ]
  },
  {
   "cell_type": "code",
   "execution_count": 6,
   "id": "70221b9f-f14c-4dfd-8e8e-d0f5bd36b085",
   "metadata": {},
   "outputs": [],
   "source": [
    "# Función de limpieza de texto\n",
    "def clean_text(text):\n",
    "    # Eliminar etiquetas HTML\n",
    "    text = re.sub(r'<.*?>', '', text)\n",
    "    # Convertir a minúsculas\n",
    "    text = text.lower()\n",
    "    # Eliminar caracteres especiales y puntuación\n",
    "    text = re.sub(r'[^a-z\\s]', '', text)\n",
    "    # Tokenizar palabras\n",
    "    words = text.split()\n",
    "    # Eliminar stopwords\n",
    "    words = [word for word in words if word not in stop_words]\n",
    "    # Unir palabras limpias en una sola cadena\n",
    "    return ' '.join(words)\n"
   ]
  },
  {
   "cell_type": "code",
   "execution_count": 7,
   "id": "f6ad87d4-b082-4188-9866-f94425d022c4",
   "metadata": {},
   "outputs": [],
   "source": [
    "# Aplicar la limpieza de texto a las reseñas\n",
    "df_amazon['clean_review'] = df_amazon['review_content'].apply(clean_text)\n"
   ]
  },
  {
   "cell_type": "code",
   "execution_count": 9,
   "id": "de3cb9a4-ed36-43b8-b61b-d020e827fac8",
   "metadata": {},
   "outputs": [
    {
     "name": "stdout",
     "output_type": "stream",
     "text": [
      "                                      review_content  \\\n",
      "0  Looks durable Charging is fine tooNo complains...   \n",
      "1  I ordered this cable to connect my phone to An...   \n",
      "2  Not quite durable and sturdy,https://m.media-a...   \n",
      "3  Good product,long wire,Charges good,Nice,I bou...   \n",
      "4  Bought this instead of original apple, does th...   \n",
      "\n",
      "                                        clean_review sentiment  \n",
      "0  looks durable charging fine toono complainscha...  positive  \n",
      "1  ordered cable connect phone android auto car c...  positive  \n",
      "2  quite durable sturdyhttpsmmediaamazoncomimages...  negative  \n",
      "3  good productlong wirecharges goodnicei bought ...  positive  \n",
      "4  bought instead original apple work rs fast app...  positive  \n"
     ]
    }
   ],
   "source": [
    "# Mostrar las primeras filas del dataset limpio\n",
    "print(df_amazon[['review_content', 'clean_review', 'sentiment']].head())"
   ]
  },
  {
   "cell_type": "code",
   "execution_count": 10,
   "id": "0eacfd27-e496-4034-ace7-51d1d73bd83d",
   "metadata": {},
   "outputs": [],
   "source": [
    "from sklearn.feature_extraction.text import TfidfVectorizer"
   ]
  },
  {
   "cell_type": "code",
   "execution_count": 11,
   "id": "8c54492f-220c-4952-a56f-2247aeb565bb",
   "metadata": {},
   "outputs": [],
   "source": [
    "# Inicializar el vectorizador TF-IDF\n",
    "tfidf_vectorizer = TfidfVectorizer(max_features=5000)  # Usamos las 5000 palabras más relevantes\n",
    "\n"
   ]
  },
  {
   "cell_type": "code",
   "execution_count": 12,
   "id": "6d5e731e-8823-419a-a72b-0559c0d3becd",
   "metadata": {},
   "outputs": [],
   "source": [
    "# Aplicar TF-IDF a las reseñas limpias\n",
    "tfidf_matrix = tfidf_vectorizer.fit_transform(df_amazon['clean_review'])\n",
    "\n"
   ]
  },
  {
   "cell_type": "code",
   "execution_count": 13,
   "id": "a3a3f7b7-441e-46f4-9584-654d6e2c22a7",
   "metadata": {},
   "outputs": [],
   "source": [
    "# Convertir la matriz a DataFrame para visualizar mejor\n",
    "tfidf_df = pd.DataFrame(tfidf_matrix.toarray(), columns=tfidf_vectorizer.get_feature_names_out())"
   ]
  },
  {
   "cell_type": "code",
   "execution_count": 14,
   "id": "0484ea84-a1c2-4be2-acf5-5dbdbcf2dbe8",
   "metadata": {},
   "outputs": [],
   "source": [
    "tfidf_df.to_csv(\"amazon_tfidf.csv\", index=False)"
   ]
  },
  {
   "cell_type": "code",
   "execution_count": 15,
   "id": "0a387b93-1202-4ad2-a48b-99a17d97ab84",
   "metadata": {},
   "outputs": [
    {
     "name": "stdout",
     "output_type": "stream",
     "text": [
      "    aa  aaa   ab  ability  able  absent  absolute  absolutely   ac  accept  \\\n",
      "0  0.0  0.0  0.0      0.0   0.0     0.0       0.0         0.0  0.0     0.0   \n",
      "1  0.0  0.0  0.0      0.0   0.0     0.0       0.0         0.0  0.0     0.0   \n",
      "2  0.0  0.0  0.0      0.0   0.0     0.0       0.0         0.0  0.0     0.0   \n",
      "3  0.0  0.0  0.0      0.0   0.0     0.0       0.0         0.0  0.0     0.0   \n",
      "4  0.0  0.0  0.0      0.0   0.0     0.0       0.0         0.0  0.0     0.0   \n",
      "\n",
      "   ...  yrs   yt  zebronics  zero  zip  zone  zones  zoom  zoomand  zoul  \n",
      "0  ...  0.0  0.0        0.0   0.0  0.0   0.0    0.0   0.0      0.0   0.0  \n",
      "1  ...  0.0  0.0        0.0   0.0  0.0   0.0    0.0   0.0      0.0   0.0  \n",
      "2  ...  0.0  0.0        0.0   0.0  0.0   0.0    0.0   0.0      0.0   0.0  \n",
      "3  ...  0.0  0.0        0.0   0.0  0.0   0.0    0.0   0.0      0.0   0.0  \n",
      "4  ...  0.0  0.0        0.0   0.0  0.0   0.0    0.0   0.0      0.0   0.0  \n",
      "\n",
      "[5 rows x 5000 columns]\n"
     ]
    }
   ],
   "source": [
    "# Mostrar las primeras filas del DataFrame TF-IDF\n",
    "print(tfidf_df.head())\n"
   ]
  },
  {
   "cell_type": "code",
   "execution_count": 16,
   "id": "b5835f51-007c-4a23-81a4-ca2707523f0b",
   "metadata": {},
   "outputs": [],
   "source": [
    "# Definir variables de entrada (X) y salida (y)\n",
    "X = tfidf_matrix  # Matriz TF-IDF\n",
    "y = df_amazon['sentiment'].map({'positive': 1, 'negative': 0})  # Convertir etiquetas a 1 y 0\n"
   ]
  },
  {
   "cell_type": "code",
   "execution_count": 17,
   "id": "410e34e7-431a-4c33-99ea-ebec97f95fe6",
   "metadata": {},
   "outputs": [],
   "source": [
    "# Dividir datos en entrenamiento (80%) y prueba (20%)\n",
    "X_train, X_test, y_train, y_test = train_test_split(X, y, test_size=0.2, random_state=42)"
   ]
  },
  {
   "cell_type": "code",
   "execution_count": 18,
   "id": "9ea2f829-0ecc-4f21-a536-9d4cffe6baf2",
   "metadata": {},
   "outputs": [
    {
     "data": {
      "text/html": [
       "<style>#sk-container-id-1 {color: black;background-color: white;}#sk-container-id-1 pre{padding: 0;}#sk-container-id-1 div.sk-toggleable {background-color: white;}#sk-container-id-1 label.sk-toggleable__label {cursor: pointer;display: block;width: 100%;margin-bottom: 0;padding: 0.3em;box-sizing: border-box;text-align: center;}#sk-container-id-1 label.sk-toggleable__label-arrow:before {content: \"▸\";float: left;margin-right: 0.25em;color: #696969;}#sk-container-id-1 label.sk-toggleable__label-arrow:hover:before {color: black;}#sk-container-id-1 div.sk-estimator:hover label.sk-toggleable__label-arrow:before {color: black;}#sk-container-id-1 div.sk-toggleable__content {max-height: 0;max-width: 0;overflow: hidden;text-align: left;background-color: #f0f8ff;}#sk-container-id-1 div.sk-toggleable__content pre {margin: 0.2em;color: black;border-radius: 0.25em;background-color: #f0f8ff;}#sk-container-id-1 input.sk-toggleable__control:checked~div.sk-toggleable__content {max-height: 200px;max-width: 100%;overflow: auto;}#sk-container-id-1 input.sk-toggleable__control:checked~label.sk-toggleable__label-arrow:before {content: \"▾\";}#sk-container-id-1 div.sk-estimator input.sk-toggleable__control:checked~label.sk-toggleable__label {background-color: #d4ebff;}#sk-container-id-1 div.sk-label input.sk-toggleable__control:checked~label.sk-toggleable__label {background-color: #d4ebff;}#sk-container-id-1 input.sk-hidden--visually {border: 0;clip: rect(1px 1px 1px 1px);clip: rect(1px, 1px, 1px, 1px);height: 1px;margin: -1px;overflow: hidden;padding: 0;position: absolute;width: 1px;}#sk-container-id-1 div.sk-estimator {font-family: monospace;background-color: #f0f8ff;border: 1px dotted black;border-radius: 0.25em;box-sizing: border-box;margin-bottom: 0.5em;}#sk-container-id-1 div.sk-estimator:hover {background-color: #d4ebff;}#sk-container-id-1 div.sk-parallel-item::after {content: \"\";width: 100%;border-bottom: 1px solid gray;flex-grow: 1;}#sk-container-id-1 div.sk-label:hover label.sk-toggleable__label {background-color: #d4ebff;}#sk-container-id-1 div.sk-serial::before {content: \"\";position: absolute;border-left: 1px solid gray;box-sizing: border-box;top: 0;bottom: 0;left: 50%;z-index: 0;}#sk-container-id-1 div.sk-serial {display: flex;flex-direction: column;align-items: center;background-color: white;padding-right: 0.2em;padding-left: 0.2em;position: relative;}#sk-container-id-1 div.sk-item {position: relative;z-index: 1;}#sk-container-id-1 div.sk-parallel {display: flex;align-items: stretch;justify-content: center;background-color: white;position: relative;}#sk-container-id-1 div.sk-item::before, #sk-container-id-1 div.sk-parallel-item::before {content: \"\";position: absolute;border-left: 1px solid gray;box-sizing: border-box;top: 0;bottom: 0;left: 50%;z-index: -1;}#sk-container-id-1 div.sk-parallel-item {display: flex;flex-direction: column;z-index: 1;position: relative;background-color: white;}#sk-container-id-1 div.sk-parallel-item:first-child::after {align-self: flex-end;width: 50%;}#sk-container-id-1 div.sk-parallel-item:last-child::after {align-self: flex-start;width: 50%;}#sk-container-id-1 div.sk-parallel-item:only-child::after {width: 0;}#sk-container-id-1 div.sk-dashed-wrapped {border: 1px dashed gray;margin: 0 0.4em 0.5em 0.4em;box-sizing: border-box;padding-bottom: 0.4em;background-color: white;}#sk-container-id-1 div.sk-label label {font-family: monospace;font-weight: bold;display: inline-block;line-height: 1.2em;}#sk-container-id-1 div.sk-label-container {text-align: center;}#sk-container-id-1 div.sk-container {/* jupyter's `normalize.less` sets `[hidden] { display: none; }` but bootstrap.min.css set `[hidden] { display: none !important; }` so we also need the `!important` here to be able to override the default hidden behavior on the sphinx rendered scikit-learn.org. See: https://github.com/scikit-learn/scikit-learn/issues/21755 */display: inline-block !important;position: relative;}#sk-container-id-1 div.sk-text-repr-fallback {display: none;}</style><div id=\"sk-container-id-1\" class=\"sk-top-container\"><div class=\"sk-text-repr-fallback\"><pre>LogisticRegression()</pre><b>In a Jupyter environment, please rerun this cell to show the HTML representation or trust the notebook. <br />On GitHub, the HTML representation is unable to render, please try loading this page with nbviewer.org.</b></div><div class=\"sk-container\" hidden><div class=\"sk-item\"><div class=\"sk-estimator sk-toggleable\"><input class=\"sk-toggleable__control sk-hidden--visually\" id=\"sk-estimator-id-1\" type=\"checkbox\" checked><label for=\"sk-estimator-id-1\" class=\"sk-toggleable__label sk-toggleable__label-arrow\">LogisticRegression</label><div class=\"sk-toggleable__content\"><pre>LogisticRegression()</pre></div></div></div></div></div>"
      ],
      "text/plain": [
       "LogisticRegression()"
      ]
     },
     "execution_count": 18,
     "metadata": {},
     "output_type": "execute_result"
    }
   ],
   "source": [
    "# Inicializar y entrenar el modelo de Regresión Logística\n",
    "model = LogisticRegression(max_iter=100)\n",
    "model.fit(X_train, y_train)"
   ]
  },
  {
   "cell_type": "code",
   "execution_count": 19,
   "id": "57536242-4aac-4174-95f9-c0a07dedb2a3",
   "metadata": {},
   "outputs": [],
   "source": [
    "# Hacer predicciones en el conjunto de prueba\n",
    "y_pred = model.predict(X_test)\n"
   ]
  },
  {
   "cell_type": "code",
   "execution_count": 20,
   "id": "8f216461-6689-4681-8762-90d39b4be5be",
   "metadata": {},
   "outputs": [
    {
     "name": "stdout",
     "output_type": "stream",
     "text": [
      "Accuracy del modelo: 0.7645\n",
      "Reporte de clasificación:\n",
      "              precision    recall  f1-score   support\n",
      "\n",
      "           0       0.78      0.09      0.17        74\n",
      "           1       0.76      0.99      0.86       219\n",
      "\n",
      "    accuracy                           0.76       293\n",
      "   macro avg       0.77      0.54      0.52       293\n",
      "weighted avg       0.77      0.76      0.69       293\n",
      "\n"
     ]
    }
   ],
   "source": [
    "# Evaluación del modelo\n",
    "accuracy = accuracy_score(y_test, y_pred)\n",
    "print(f'Accuracy del modelo: {accuracy:.4f}')\n",
    "print('Reporte de clasificación:')\n",
    "print(classification_report(y_test, y_pred))"
   ]
  },
  {
   "cell_type": "code",
   "execution_count": 21,
   "id": "13b87741-43eb-4405-ab6b-000d34215ef9",
   "metadata": {},
   "outputs": [
    {
     "data": {
      "text/html": [
       "<div>\n",
       "<style scoped>\n",
       "    .dataframe tbody tr th:only-of-type {\n",
       "        vertical-align: middle;\n",
       "    }\n",
       "\n",
       "    .dataframe tbody tr th {\n",
       "        vertical-align: top;\n",
       "    }\n",
       "\n",
       "    .dataframe thead th {\n",
       "        text-align: right;\n",
       "    }\n",
       "</style>\n",
       "<table border=\"1\" class=\"dataframe\">\n",
       "  <thead>\n",
       "    <tr style=\"text-align: right;\">\n",
       "      <th></th>\n",
       "      <th>review_content</th>\n",
       "      <th>rating</th>\n",
       "      <th>sentiment</th>\n",
       "      <th>clean_review</th>\n",
       "    </tr>\n",
       "  </thead>\n",
       "  <tbody>\n",
       "    <tr>\n",
       "      <th>0</th>\n",
       "      <td>Looks durable Charging is fine tooNo complains...</td>\n",
       "      <td>4.2</td>\n",
       "      <td>positive</td>\n",
       "      <td>looks durable charging fine toono complainscha...</td>\n",
       "    </tr>\n",
       "    <tr>\n",
       "      <th>1</th>\n",
       "      <td>I ordered this cable to connect my phone to An...</td>\n",
       "      <td>4.0</td>\n",
       "      <td>positive</td>\n",
       "      <td>ordered cable connect phone android auto car c...</td>\n",
       "    </tr>\n",
       "    <tr>\n",
       "      <th>2</th>\n",
       "      <td>Not quite durable and sturdy,https://m.media-a...</td>\n",
       "      <td>3.9</td>\n",
       "      <td>negative</td>\n",
       "      <td>quite durable sturdyhttpsmmediaamazoncomimages...</td>\n",
       "    </tr>\n",
       "    <tr>\n",
       "      <th>3</th>\n",
       "      <td>Good product,long wire,Charges good,Nice,I bou...</td>\n",
       "      <td>4.2</td>\n",
       "      <td>positive</td>\n",
       "      <td>good productlong wirecharges goodnicei bought ...</td>\n",
       "    </tr>\n",
       "    <tr>\n",
       "      <th>4</th>\n",
       "      <td>Bought this instead of original apple, does th...</td>\n",
       "      <td>4.2</td>\n",
       "      <td>positive</td>\n",
       "      <td>bought instead original apple work rs fast app...</td>\n",
       "    </tr>\n",
       "    <tr>\n",
       "      <th>...</th>\n",
       "      <td>...</td>\n",
       "      <td>...</td>\n",
       "      <td>...</td>\n",
       "      <td>...</td>\n",
       "    </tr>\n",
       "    <tr>\n",
       "      <th>1460</th>\n",
       "      <td>I received product without spanner,Excellent p...</td>\n",
       "      <td>4.0</td>\n",
       "      <td>positive</td>\n",
       "      <td>received product without spannerexcellent prod...</td>\n",
       "    </tr>\n",
       "    <tr>\n",
       "      <th>1461</th>\n",
       "      <td>ok,got everything as mentioned but the measuri...</td>\n",
       "      <td>4.1</td>\n",
       "      <td>positive</td>\n",
       "      <td>okgot everything mentioned measuring cup broke...</td>\n",
       "    </tr>\n",
       "    <tr>\n",
       "      <th>1462</th>\n",
       "      <td>plastic but cool body ,u have to find sturdy s...</td>\n",
       "      <td>3.6</td>\n",
       "      <td>negative</td>\n",
       "      <td>plastic cool body u find sturdy surface put ve...</td>\n",
       "    </tr>\n",
       "    <tr>\n",
       "      <th>1463</th>\n",
       "      <td>I have installed this in my kitchen working fi...</td>\n",
       "      <td>4.0</td>\n",
       "      <td>positive</td>\n",
       "      <td>installed kitchen working fine fan speed slow ...</td>\n",
       "    </tr>\n",
       "    <tr>\n",
       "      <th>1464</th>\n",
       "      <td>It does it job perfectly..only issue is temp c...</td>\n",
       "      <td>4.3</td>\n",
       "      <td>positive</td>\n",
       "      <td>job perfectlyonly issue temp control perfect u...</td>\n",
       "    </tr>\n",
       "  </tbody>\n",
       "</table>\n",
       "<p>1464 rows × 4 columns</p>\n",
       "</div>"
      ],
      "text/plain": [
       "                                         review_content  rating sentiment  \\\n",
       "0     Looks durable Charging is fine tooNo complains...     4.2  positive   \n",
       "1     I ordered this cable to connect my phone to An...     4.0  positive   \n",
       "2     Not quite durable and sturdy,https://m.media-a...     3.9  negative   \n",
       "3     Good product,long wire,Charges good,Nice,I bou...     4.2  positive   \n",
       "4     Bought this instead of original apple, does th...     4.2  positive   \n",
       "...                                                 ...     ...       ...   \n",
       "1460  I received product without spanner,Excellent p...     4.0  positive   \n",
       "1461  ok,got everything as mentioned but the measuri...     4.1  positive   \n",
       "1462  plastic but cool body ,u have to find sturdy s...     3.6  negative   \n",
       "1463  I have installed this in my kitchen working fi...     4.0  positive   \n",
       "1464  It does it job perfectly..only issue is temp c...     4.3  positive   \n",
       "\n",
       "                                           clean_review  \n",
       "0     looks durable charging fine toono complainscha...  \n",
       "1     ordered cable connect phone android auto car c...  \n",
       "2     quite durable sturdyhttpsmmediaamazoncomimages...  \n",
       "3     good productlong wirecharges goodnicei bought ...  \n",
       "4     bought instead original apple work rs fast app...  \n",
       "...                                                 ...  \n",
       "1460  received product without spannerexcellent prod...  \n",
       "1461  okgot everything mentioned measuring cup broke...  \n",
       "1462  plastic cool body u find sturdy surface put ve...  \n",
       "1463  installed kitchen working fine fan speed slow ...  \n",
       "1464  job perfectlyonly issue temp control perfect u...  \n",
       "\n",
       "[1464 rows x 4 columns]"
      ]
     },
     "execution_count": 21,
     "metadata": {},
     "output_type": "execute_result"
    }
   ],
   "source": [
    "df_amazon"
   ]
  },
  {
   "cell_type": "code",
   "execution_count": 32,
   "id": "99229e82-569a-49f3-8d35-8ec2296f15a3",
   "metadata": {},
   "outputs": [
    {
     "data": {
      "image/png": "[encoded data removed]",
      "text/plain": [
       "<Figure size 800x500 with 1 Axes>"
      ]
     },
     "metadata": {},
     "output_type": "display_data"
    }
   ],
   "source": [
    "# 1. Fixing the Distribution of Ratings Plot\n",
    "plt.figure(figsize=(8, 5))\n",
    "sns.histplot(df_amazon['rating'].dropna(), bins=5, kde=True, color=\"blue\")\n",
    "plt.xlabel(\"Calificación del Producto (Rating)\")\n",
    "plt.ylabel(\"Frecuencia\")\n",
    "plt.title(\"Distribución de Calificaciones en Reseñas de Amazon\")\n",
    "plt.xticks(range(1, 6))\n",
    "plt.grid(axis=\"y\", linestyle=\"--\", alpha=0.7)\n",
    "plt.savefig(\"distribucion_calificaciones.png\", dpi=300)\n",
    "plt.show()"
   ]
  },
  {
   "cell_type": "code",
   "execution_count": 33,
   "id": "bd5f739a-6c37-4046-a57f-e21f524c1da1",
   "metadata": {},
   "outputs": [
    {
     "data": {
      "image/png": "[encoded data removed]",
      "text/plain": [
       "<Figure size 600x500 with 2 Axes>"
      ]
     },
     "metadata": {},
     "output_type": "display_data"
    }
   ],
   "source": [
    "# 2. Fixing Confusion Matrix Plot\n",
    "import numpy as np\n",
    "from sklearn.metrics import confusion_matrix\n",
    "\n",
    "y_pred = model.predict(X_test)  # Predictions from the model\n",
    "cm = confusion_matrix(y_test, y_pred)\n",
    "labels = [\"Negative\", \"Positive\"]\n",
    "\n",
    "plt.figure(figsize=(6, 5))\n",
    "sns.heatmap(cm, annot=True, fmt=\"d\", cmap=\"Blues\", xticklabels=labels, yticklabels=labels)\n",
    "plt.xlabel(\"Predicho\")\n",
    "plt.ylabel(\"Real\")\n",
    "plt.title(\"Matriz de Confusión del Modelo\")\n",
    "# Guardar la gráfica\n",
    "plt.savefig(\"matriz_confusion.png\", dpi=300)\n",
    "plt.show()"
   ]
  },
  {
   "cell_type": "code",
   "execution_count": 24,
   "id": "0164af97-76c8-404a-b8c9-8c863ee5e3d2",
   "metadata": {},
   "outputs": [],
   "source": [
    "# Obtener las probabilidades de predicción del modelo\n",
    "y_prob = model.predict_proba(X_test)[:, 1] "
   ]
  },
  {
   "cell_type": "code",
   "execution_count": 25,
   "id": "75827540-a814-42aa-ae17-b25478a8acae",
   "metadata": {},
   "outputs": [],
   "source": [
    "# Crear un DataFrame para comparar la predicción con la calificación real\n",
    "comparison_df = pd.DataFrame({\n",
    "    'Actual Rating': y_test.map({1: 'positive', 0: 'negative'}),  # Convertir valores binarios a etiquetas\n",
    "    'Predicted Sentiment': ['positive' if prob >= 0.5 else 'negative' for prob in y_prob],\n",
    "    'Predicted Probability': y_prob\n",
    "})\n",
    "\n"
   ]
  },
  {
   "cell_type": "code",
   "execution_count": 26,
   "id": "41ac39bb-ba1f-40cb-af7a-bca73e672b06",
   "metadata": {},
   "outputs": [],
   "source": [
    "# Guardar el resultado en un archivo CSV\n",
    "comparison_df.to_csv(\"amazon_comparison.csv\", index=False)\n",
    "\n"
   ]
  },
  {
   "cell_type": "code",
   "execution_count": 27,
   "id": "6ee85a51-77ae-479d-9237-39d6dc602620",
   "metadata": {},
   "outputs": [
    {
     "name": "stdout",
     "output_type": "stream",
     "text": [
      "     Actual Rating Predicted Sentiment  Predicted Probability\n",
      "1297      positive            positive               0.759262\n",
      "175       negative            positive               0.813446\n",
      "275       negative            positive               0.542898\n",
      "548       positive            positive               0.846811\n",
      "1000      negative            positive               0.902494\n"
     ]
    }
   ],
   "source": [
    "# Mostrar una muestra de la comparación\n",
    "print(comparison_df.head())"
   ]
  }
 ],
 "metadata": {
  "kernelspec": {
   "display_name": "Python 3 (ipykernel)",
   "language": "python",
   "name": "python3"
  },
  "language_info": {
   "codemirror_mode": {
    "name": "ipython",
    "version": 3
   },
   "file_extension": ".py",
   "mimetype": "text/x-python",
   "name": "python",
   "nbconvert_exporter": "python",
   "pygments_lexer": "ipython3",
   "version": "3.10.4"
  }
 },
 "nbformat": 4,
 "nbformat_minor": 5
}
